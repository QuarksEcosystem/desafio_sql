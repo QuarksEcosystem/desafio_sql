{
 "cells": [
  {
   "cell_type": "markdown",
   "id": "6429d5cf-2392-4de9-b2a7-29d50cfd3385",
   "metadata": {},
   "source": [
    "# Ferramentas do Projeto\n",
    "\n",
    "<p>Para analisar a base de dados, podemos utilizar a biblioteca pandas, que se adequa bem ao tipo de análise que desejamos realizar.</p> "
   ]
  },
  {
   "cell_type": "code",
   "execution_count": null,
   "id": "8d727356-6302-4cd9-9708-857980bb3ef9",
   "metadata": {},
   "outputs": [],
   "source": [
    "import pandas as pd"
   ]
  },
  {
   "cell_type": "markdown",
   "id": "ff67b2c5-3f4e-42a6-970a-89877b4684f9",
   "metadata": {},
   "source": [
    "# Extracão e Tratamento dos dados\n",
    "\n",
    "<p>Uma vez importada a biblioteca, utilizamos o comando read_csv(), utilizando o separador apropriado do arquivo csv disponibilizado, para ler os dados e inserí-los num dataframe.</p>"
   ]
  },
  {
   "cell_type": "code",
   "execution_count": null,
   "id": "c27ecf1a-92a6-44e0-94ee-acb3027ecd50",
   "metadata": {},
   "outputs": [],
   "source": [
    "database = pd.read_csv('./DB_Teste.csv', sep=';')\n",
    "database.head()"
   ]
  },
  {
   "cell_type": "markdown",
   "id": "ca8ec021-99f9-4da4-bdf0-75f55515973b",
   "metadata": {},
   "source": [
    "<p>Tendo a base de dados em mãos, é preciso realizar um tratamento dos dados recebidos, para garantir que não há problemas com nossos dados, e, caso haja, corrigí-los antes que qualquer análise seja feita.</p>\n",
    "\n",
    "<p>Primeiramente vamos retirar informacões a respeito do dataframe com a funcão info()</p>"
   ]
  },
  {
   "cell_type": "code",
   "execution_count": null,
   "id": "837c8ba6-52e2-4f09-a8d2-66247f67e07d",
   "metadata": {},
   "outputs": [],
   "source": [
    "print(database.info())"
   ]
  },
  {
   "cell_type": "markdown",
   "id": "ffb309f6-b555-4efb-86b5-6648a8d6b1b1",
   "metadata": {},
   "source": [
    "<p>Temos uma coluna, a 'Unnamed:10', que não possui nenhum valor não nulo. Podemos retirá-la sem prejuízo à análise.</p>"
   ]
  },
  {
   "cell_type": "code",
   "execution_count": null,
   "id": "15556dbc-7087-4b69-9b82-af3be4882b81",
   "metadata": {},
   "outputs": [],
   "source": [
    "del database['Unnamed: 10']\n",
    "database"
   ]
  },
  {
   "cell_type": "markdown",
   "id": "f3f45796-a4de-4cd3-a752-6a6fa04c3961",
   "metadata": {},
   "source": [
    "<p>Analisando os tipos de dados de cada coluna, vemos que a coluna de valor não tem um tipo numérico de dado. Portanto, precisamos converter esta coluna em uma coluna de floats</p>"
   ]
  },
  {
   "cell_type": "code",
   "execution_count": null,
   "id": "e00a7050-8c7c-465f-bb11-5e834b3bad47",
   "metadata": {},
   "outputs": [],
   "source": [
    "database['Valor'] = database['Valor'].replace('[R$.]', '', regex=True).str.replace(',','.').astype(float)\n",
    "print(database.info())\n",
    "database"
   ]
  },
  {
   "cell_type": "markdown",
   "id": "78cb2ea9-22ec-4a17-8811-56e61b64edca",
   "metadata": {},
   "source": [
    "<p>Por último, devemos checar se não há nenhuma linha duplicada, por precaucão. Podemos inferir, pelo tipo de base de dados que temos, que a única coluna que diferencia as entradas umas das outras é a coluna ID, pois as outras podem possuir mais de uma ocorrência em mais de uma linha sem problemas.</p>"
   ]
  },
  {
   "cell_type": "code",
   "execution_count": null,
   "id": "f050bf38-e4e1-4911-9532-abab151e5205",
   "metadata": {},
   "outputs": [],
   "source": [
    "# devolve todas as linhas duplicadas com base na ID\n",
    "linhas_duplicadas = database.duplicated(subset=['ID'], keep=False) \n",
    "# any(linhas_duplicadas) vai ser true se houver pelo menos uma linha duplicada. \n",
    "if any(linhas_duplicadas):\n",
    "    print(database[linhas_duplicadas])"
   ]
  },
  {
   "cell_type": "markdown",
   "id": "7df30b80-892f-4c6a-b2b0-213bf63c6677",
   "metadata": {},
   "source": [
    "<p>Podemos notar que uma ID foi utilizada em duas entradas da base de dados. Podemos colocá-la numa variavel separada para usar posteriormente em nossas análises, por questões de sanity check.</p>"
   ]
  },
  {
   "cell_type": "code",
   "execution_count": null,
   "id": "ad39f1f9-316f-47f4-9eae-3668b4716de1",
   "metadata": {},
   "outputs": [],
   "source": [
    "ID_duplicada = database.loc[linhas_duplicadas, 'ID'].values[0]\n",
    "print(ID_duplicada)"
   ]
  },
  {
   "cell_type": "markdown",
   "id": "204a1964-9908-4a5e-86d5-ba2c3feb1203",
   "metadata": {},
   "source": [
    "<p>Agora que temos os dados do jeito que queríamos, podemos partir para a análise</p>"
   ]
  },
  {
   "cell_type": "markdown",
   "id": "8bc253f8-cd53-4747-9f57-e1f32503e44e",
   "metadata": {},
   "source": [
    "# Análise\n",
    "\n",
    "\n",
    "### 1) Construa uma tabela auxiliar que sumarize o valor vendido por cada vendedor, ordenando do maior para o menor"
   ]
  },
  {
   "cell_type": "code",
   "execution_count": null,
   "id": "9e5b4000-c83f-4b6c-9ad1-55e88cb9cdbf",
   "metadata": {},
   "outputs": [],
   "source": [
    "# Resposta:\n",
    "\n",
    "# primeiramente criamos a tabela agrupando por vendedor e somando todos os valores de suas vendas\n",
    "resumo_vendas = database.groupby('Vendedor')['Valor'].sum().reset_index()\n",
    "# retirando a notacao cientifica do output, para faciliar a leitura dos numeros\n",
    "pd.set_option('display.float_format', lambda x: '%.2f' % x) \n",
    "\n",
    "# em seguida ordenamos a tabela em ordem descrescente\n",
    "resumo_vendas = resumo_vendas.sort_values(by='Valor', ascending=False)\n",
    "resumo_vendas = resumo_vendas.rename(columns={'Valor': 'Valor Vendido'})\n",
    "print(resumo_vendas)"
   ]
  },
  {
   "cell_type": "markdown",
   "id": "6f0975ec-3c7a-4247-adf9-0ab968fdab5b",
   "metadata": {},
   "source": [
    "### 2) Imprima e identifica qual foi o cliente responsável pela venda com maior valor e com menor valor"
   ]
  },
  {
   "cell_type": "code",
   "execution_count": null,
   "id": "ef766535-24b8-4ba2-9082-7198332546e8",
   "metadata": {},
   "outputs": [],
   "source": [
    "# podemos encontrar o cliente responsável pela maior venda aplicando loc no valor, \n",
    "# filtrando pelo id atribuido ao maior valor e pegando o valor contido na coluna cliente. \n",
    "cliente_maior_venda = database.loc[database['Valor'].idxmax(), 'Cliente']\n",
    "print(f\"O cliente responsável pela maior venda foi o {cliente_maior_venda}\")\n",
    "\n",
    "# o mesmo raciocínio é válido para a menor venda\n",
    "cliente_menor_venda = database.loc[database['Valor'].idxmin(), 'Cliente']\n",
    "print(f\"Já o cliente responsável pela menor venda foi o {cliente_menor_venda}\")"
   ]
  },
  {
   "cell_type": "markdown",
   "id": "c28c30fc-4186-4d1e-b5bf-c99806889c1a",
   "metadata": {},
   "source": [
    "### 3) Imprima valor médio por Tipo de venda (Serviços, Licenciamento, Produtos)"
   ]
  },
  {
   "cell_type": "code",
   "execution_count": null,
   "id": "a4540ab5-3292-4102-8bb7-4ca29fc5a53f",
   "metadata": {},
   "outputs": [],
   "source": [
    "# Agrupando por tipo e aplicando a media obtemos o resultado\n",
    "valor_medio_tipo = database.groupby('Tipo')['Valor'].mean().reset_index()\n",
    "valor_medio_tipo['Valor'] = valor_medio_tipo['Valor'].round(2)\n",
    "valor_medio_tipo = valor_medio_tipo.rename(columns={'Valor': 'Valor Medio por Tipo'})\n",
    "valor_medio_tipo"
   ]
  },
  {
   "cell_type": "markdown",
   "id": "e7a72dd0-0c1b-4094-a76d-a0295a095d06",
   "metadata": {},
   "source": [
    "### 4) Imprima o número de vendas realizada por cliente"
   ]
  },
  {
   "cell_type": "code",
   "execution_count": null,
   "id": "43e12bd6-47b2-4c6a-a563-91958e65dc70",
   "metadata": {},
   "outputs": [],
   "source": [
    "# aplicando a funcao value_counts() na coluna Cliente obtemos o número de entradas por cliente\n",
    "numero_vendas_por_cliente = database['Cliente'].value_counts().reset_index()\n",
    "numero_vendas_por_cliente.columns = ['Cliente', 'Numero de Vendas']\n",
    "numero_vendas_por_cliente"
   ]
  },
  {
   "cell_type": "markdown",
   "id": "170fa3c0-3792-4040-899f-e635a17b40a2",
   "metadata": {},
   "source": [
    "# GRÁFICO DA PARTE 2 DO DESAFIO"
   ]
  },
  {
   "cell_type": "code",
   "execution_count": null,
   "id": "2af6721b-9676-4413-a1b2-63fb04d4bb9f",
   "metadata": {},
   "outputs": [],
   "source": [
    "import matplotlib.pyplot as plt"
   ]
  },
  {
   "cell_type": "markdown",
   "id": "84ec7972-9752-4a28-9f64-845099411229",
   "metadata": {},
   "source": [
    "<p></p>"
   ]
  },
  {
   "cell_type": "code",
   "execution_count": null,
   "id": "82289868-fd45-46e0-af2e-29550c397cba",
   "metadata": {},
   "outputs": [],
   "source": [
    "database['Data da Venda'] = pd.to_datetime(database['Data da Venda'], format='%d/%m/%Y')\n",
    "database['Trimestre'] = database['Data da Venda'].dt.to_period('Q') # 'Q' define um trimestre (quarto de ano)"
   ]
  },
  {
   "cell_type": "code",
   "execution_count": null,
   "id": "df91debc-c04a-4712-92b0-cccc6829d514",
   "metadata": {},
   "outputs": [],
   "source": [
    "database.head()"
   ]
  },
  {
   "cell_type": "code",
   "execution_count": null,
   "id": "79f82dbf-c2a5-47c9-8f3c-342c9f137306",
   "metadata": {},
   "outputs": [],
   "source": [
    "soma_por_trimestre = database.groupby('Trimestre')['Valor'].sum().reset_index()\n",
    "# convertendo para string para evitar erros com o plot\n",
    "soma_por_trimestre['Trimestre'] = soma_por_trimestre['Trimestre'].astype(str) \n",
    "print(soma_por_trimestre)"
   ]
  },
  {
   "cell_type": "code",
   "execution_count": null,
   "id": "d4c3351d-56b6-4e7e-ab1c-1a0ea2b0bf57",
   "metadata": {},
   "outputs": [],
   "source": [
    "plt.plot(soma_por_trimestre['Trimestre'], soma_por_trimestre['Valor'], marker='o')\n",
    "plt.title('Valor Total de Vendas por Trimestre')\n",
    "plt.xlabel('Trimestre')\n",
    "plt.ylabel('Valor Total de Vendas por Trimestre')\n",
    " # retirando a notacao cientifica do eixo y para melhor legibilidade\n",
    "plt.ticklabel_format(style='plain', axis='y')\n",
    "plt.xticks(rotation=45) # rotacionanco os valores no eixo x para melhor legibilidade\n",
    "plt.show()"
   ]
  }
 ],
 "metadata": {
  "kernelspec": {
   "display_name": "Python 3 (ipykernel)",
   "language": "python",
   "name": "python3"
  },
  "language_info": {
   "codemirror_mode": {
    "name": "ipython",
    "version": 3
   },
   "file_extension": ".py",
   "mimetype": "text/x-python",
   "name": "python",
   "nbconvert_exporter": "python",
   "pygments_lexer": "ipython3",
   "version": "3.10.12"
  }
 },
 "nbformat": 4,
 "nbformat_minor": 5
}
