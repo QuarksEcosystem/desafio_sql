{
  "nbformat": 4,
  "nbformat_minor": 0,
  "metadata": {
    "colab": {
      "provenance": []
    },
    "kernelspec": {
      "name": "python3",
      "display_name": "Python 3"
    },
    "language_info": {
      "name": "python"
    }
  },
  "cells": [
    {
      "cell_type": "code",
      "execution_count": null,
      "metadata": {
        "id": "ck2Wu9hebKO7"
      },
      "outputs": [],
      "source": [
        "import sqlite3\n",
        "import matplotlib.pyplot as plt\n",
        "\n",
        "# Conecte-se ao banco de dados SQLite\n",
        "conn = sqlite3.connect('sqlite.db')   #banco de dados\n",
        "cursor = conn.cursor()\n",
        "\n",
        "\n",
        "\n",
        "# Executar a consulta SQL\n",
        "consulta_sql = \"\"\"\n",
        "SELECT\n",
        "    strftime('%Y', strftime('%Y-%m-%d', substr(Data_da_Venda, 7, 4) || '-' || substr(Data_da_Venda, 4, 2) || '-' || substr(Data_da_Venda, 1, 2))) AS ano,\n",
        "    sum(case WHEN strftime('%m', strftime('%Y-%m-%d', substr(Data_da_Venda, 7, 4) || '-' || substr(Data_da_Venda, 4, 2) || '-' || substr(Data_da_Venda, 1, 2))) BETWEEN '01' AND '03' then 1 else 0 end) AS 'Trimestre 1',\n",
        "    sum(case when strftime('%m', strftime('%Y-%m-%d', substr(Data_da_Venda, 7, 4) || '-' || substr(Data_da_Venda, 4, 2) || '-' || substr(Data_da_Venda, 1, 2))) BETWEEN '04' AND '06' then 1 else 0 end) AS 'Trimestre 2',\n",
        "    sum(case when strftime('%m', strftime('%Y-%m-%d', substr(Data_da_Venda, 7, 4) || '-' || substr(Data_da_Venda, 4, 2) || '-' || substr(Data_da_Venda, 1, 2))) BETWEEN '07' AND '09' then 1 else 0 end) AS 'Trimestre 3',\n",
        "    sum(case when strftime('%m', strftime('%Y-%m-%d', substr(Data_da_Venda, 7, 4) || '-' || substr(Data_da_Venda, 4, 2) || '-' || substr(Data_da_Venda, 1, 2))) BETWEEN '10' AND '12' then 1 else 0 end) AS 'Trimestre 4',\n",
        "\tsum(Valor) AS total_vendas\n",
        "FROM DB_Teste\n",
        "GROUP BY ano;\n",
        "\"\"\"\n",
        "cursor.execute(consulta_sql)\n",
        "\n",
        "# Recuperar os dados\n",
        "dados = cursor.fetchall()\n",
        "trimestres = [row[1] for row in dados]\n",
        "total_vendas = [row[2] for row in dados]\n",
        "trimestres = ['Trimestre 1', 'Trimestre 2', 'Trimestre 3', 'Trimestre 4']\n",
        "# Plotar o gráfico de barras\n",
        "plt.figure(figsize=(12, 6))\n",
        "plt.bar(range(len(trimestres)), total_vendas)\n",
        "plt.xlabel('Trimestres')\n",
        "plt.ylabel('Total de Vendas')\n",
        "plt.title('Total de Vendas por Trimestre')\n",
        "plt.xticks(range(len(trimestres)), trimestres, rotation=45, ha='right')\n",
        "\n",
        "# Mostrar o gráfico\n",
        "plt.show()\n",
        "\n",
        "# Fechar a conexão com o banco de dados\n",
        "cursor.close()\n",
        "conn.close()"
      ]
    }
  ]
}