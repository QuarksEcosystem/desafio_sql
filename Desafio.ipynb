{
  "nbformat": 4,
  "nbformat_minor": 0,
  "metadata": {
    "colab": {
      "provenance": [],
      "authorship_tag": "ABX9TyPP/z8WrUYq1xv6OvLiU5oJ",
      "include_colab_link": true
    },
    "kernelspec": {
      "name": "python3",
      "display_name": "Python 3"
    },
    "language_info": {
      "name": "python"
    }
  },
  "cells": [
    {
      "cell_type": "markdown",
      "metadata": {
        "id": "view-in-github",
        "colab_type": "text"
      },
      "source": [
        "<a href=\"https://colab.research.google.com/github/joaovrmdev/desafio_sql/blob/main/Desafio.ipynb\" target=\"_parent\"><img src=\"https://colab.research.google.com/assets/colab-badge.svg\" alt=\"Open In Colab\"/></a>"
      ]
    },
    {
      "cell_type": "code",
      "execution_count": 1,
      "metadata": {
        "id": "GI8ZGb2craFW"
      },
      "outputs": [],
      "source": [
        "# Importar pandas para manipular dados\n",
        "import pandas as pd\n"
      ]
    },
    {
      "cell_type": "code",
      "source": [
        "# Ler o arquivo csv de entrada\n",
        "url = \"https://raw.githubusercontent.com/joaovrmdev/desafio_sql/main/DB_Teste.csv\"\n",
        "df = pd.read_csv(url, delimiter=';')"
      ],
      "metadata": {
        "id": "5lPsiQKQsncV"
      },
      "execution_count": 10,
      "outputs": []
    },
    {
      "cell_type": "code",
      "source": [
        "# Limpar a coluna \"Valor\" removendo espaços em branco, pontos e vírgulas, e converter para tipo numérico\n",
        "df[\"Valor\"] = df[\"Valor\"].apply(lambda x: float(x.replace(\"R$ \", \"\").replace(\".\", \"\").replace(\",\", \".\")) if isinstance(x, str) else x)\n",
        "\n",
        "# Criar uma tabela auxiliar que mantém o maior valor de cada vendedor\n",
        "aux_max = df.groupby(\"Vendedor\")[\"Valor\"].max().reset_index()\n",
        "\n",
        "# Criar uma tabela auxiliar final com os vendedores e valores, ordenados por valor descendente\n",
        "aux_final = df.sort_values(by=[\"Vendedor\", \"Valor\"], ascending=[True, False])\n",
        "\n",
        "# Utilizar a função pivot_table para organizar os dados\n",
        "pivot_table = pd.pivot_table(aux_final, values=\"Valor\", index=\"Vendedor\", aggfunc=lambda x: ' '.join(f'R$ {val:.2f}' for val in x))\n",
        "\n",
        "# Ordenar os vendedores com base no maior valor de cada um\n",
        "vendedores_ordenados = aux_max.sort_values(by=\"Valor\", ascending=False)[\"Vendedor\"]\n",
        "\n",
        "# Reorganizar as linhas na tabela final com base na ordem dos vendedores\n",
        "pivot_table = pivot_table.loc[vendedores_ordenados]\n",
        "\n",
        "# Exibir a tabela resultante\n",
        "print(pivot_table.to_markdown())"
      ],
      "metadata": {
        "id": "QL6l5dOGuEtT"
      },
      "execution_count": null,
      "outputs": []
    },
    {
      "cell_type": "code",
      "source": [
        "# Encontrar o cliente responsável pela venda com maior valor\n",
        "cliente_max = df.loc[df.groupby(\"Vendedor\")[\"Valor\"].idxmax()][[\"Vendedor\", \"Cliente\", \"Valor\"]]\n",
        "\n",
        "# Encontrar o cliente responsável pela venda com menor valor\n",
        "cliente_min = df.loc[df.groupby(\"Vendedor\")[\"Valor\"].idxmin()][[\"Vendedor\", \"Cliente\", \"Valor\"]]\n",
        "\n",
        "# Organizar os resultados por vendedor\n",
        "cliente_max = cliente_max.sort_values(by=\"Vendedor\").head(1)\n",
        "cliente_min = cliente_min.sort_values(by=\"Vendedor\").head(1)\n",
        "\n",
        "# Exibir as informações\n",
        "print(\"Cliente responsável pela venda com maior valor:\")\n",
        "print(cliente_max.to_markdown(index=1))\n",
        "\n",
        "print(\"\\nCliente responsável pela venda com menor valor:\")\n",
        "print(cliente_min.to_markdown(index=1))"
      ],
      "metadata": {
        "colab": {
          "base_uri": "https://localhost:8080/"
        },
        "id": "k6_a6jFd3BOc",
        "outputId": "53167442-7cdd-4975-c3c0-ab7cd601b07e"
      },
      "execution_count": 41,
      "outputs": [
        {
          "output_type": "stream",
          "name": "stdout",
          "text": [
            "Cliente responsável pela venda com maior valor:\n",
            "|     | Vendedor   | Cliente    |       Valor |\n",
            "|----:|:-----------|:-----------|------------:|\n",
            "| 104 | Vendedor 1 | Cliente 13 | 3.64922e+06 |\n",
            "\n",
            "Cliente responsável pela venda com menor valor:\n",
            "|     | Vendedor   | Cliente    |   Valor |\n",
            "|----:|:-----------|:-----------|--------:|\n",
            "| 722 | Vendedor 1 | Cliente 76 |   12000 |\n"
          ]
        }
      ]
    },
    {
      "cell_type": "code",
      "source": [
        "# Calcular o valor médio por tipo de venda\n",
        "valor_medio_por_tipo = df.groupby(\"Tipo\")[\"Valor\"].mean().reset_index()\n",
        "\n",
        "# Exibir as informações\n",
        "print(\"Valor médio por Tipo de venda:\")\n",
        "print(valor_medio_por_tipo.to_markdown(index=False))"
      ],
      "metadata": {
        "colab": {
          "base_uri": "https://localhost:8080/"
        },
        "id": "jSjJlvLT3vWL",
        "outputId": "95ebc256-d9de-43ac-8d15-645e76561d77"
      },
      "execution_count": 42,
      "outputs": [
        {
          "output_type": "stream",
          "name": "stdout",
          "text": [
            "Valor médio por Tipo de venda:\n",
            "| Tipo          |   Valor |\n",
            "|:--------------|--------:|\n",
            "| Licenciamento |  983449 |\n",
            "| Produtos      |  893409 |\n",
            "| Serviços      |  314568 |\n"
          ]
        }
      ]
    },
    {
      "cell_type": "code",
      "source": [
        "# Contar o número de vendas por cliente\n",
        "vendas_por_cliente = df[\"Cliente\"].value_counts().reset_index()\n",
        "\n",
        "# Renomear as colunas para melhorar a legibilidade\n",
        "vendas_por_cliente.columns = [\"Cliente\", \"Número de Vendas\"]\n",
        "\n",
        "# Exibir as informações\n",
        "print(\"Número de vendas por cliente:\")\n",
        "print(vendas_por_cliente.to_markdown(index=False))"
      ],
      "metadata": {
        "colab": {
          "base_uri": "https://localhost:8080/"
        },
        "id": "rVcO2HXT33sj",
        "outputId": "31b180a2-82de-4058-d430-7e3f2f0375a5"
      },
      "execution_count": 43,
      "outputs": [
        {
          "output_type": "stream",
          "name": "stdout",
          "text": [
            "Número de vendas por cliente:\n",
            "| Cliente     |   Número de Vendas |\n",
            "|:------------|-------------------:|\n",
            "| Cliente 5   |                128 |\n",
            "| Cliente 8   |                 61 |\n",
            "| Cliente 4   |                 60 |\n",
            "| Cliente 10  |                 43 |\n",
            "| Cliente 3   |                 31 |\n",
            "| Cliente 13  |                 26 |\n",
            "| Cliente 26  |                 25 |\n",
            "| Cliente 2   |                 21 |\n",
            "| Cliente 14  |                 21 |\n",
            "| Cliente 30  |                 20 |\n",
            "| Cliente 16  |                 19 |\n",
            "| Cliente 9   |                 17 |\n",
            "| Cliente 52  |                 17 |\n",
            "| Cliente 31  |                 14 |\n",
            "| Cliente 43  |                 13 |\n",
            "| Cliente 24  |                 13 |\n",
            "| Cliente 12  |                 11 |\n",
            "| Cliente 50  |                 11 |\n",
            "| Cliente 7   |                 10 |\n",
            "| Cliente 71  |                  9 |\n",
            "| Cliente 37  |                  9 |\n",
            "| Cliente 44  |                  9 |\n",
            "| Cliente 23  |                  8 |\n",
            "| Cliente 34  |                  8 |\n",
            "| Cliente 75  |                  8 |\n",
            "| Cliente 68  |                  7 |\n",
            "| Cliente 76  |                  7 |\n",
            "| Cliente 42  |                  6 |\n",
            "| Cliente 21  |                  6 |\n",
            "| Cliente 94  |                  6 |\n",
            "| Cliente 82  |                  6 |\n",
            "| Cliente 109 |                  5 |\n",
            "| Cliente 89  |                  5 |\n",
            "| Cliente 38  |                  5 |\n",
            "| Cliente 33  |                  4 |\n",
            "| Cliente 27  |                  4 |\n",
            "| Cliente 96  |                  4 |\n",
            "| Cliente 15  |                  4 |\n",
            "| Cliente 116 |                  3 |\n",
            "| Cliente 64  |                  3 |\n",
            "| Cliente 81  |                  3 |\n",
            "| Cliente 32  |                  3 |\n",
            "| Cliente 17  |                  3 |\n",
            "| Cliente 67  |                  3 |\n",
            "| Cliente 59  |                  3 |\n",
            "| Cliente 40  |                  3 |\n",
            "| Cliente 138 |                  3 |\n",
            "| Cliente 29  |                  3 |\n",
            "| Cliente 47  |                  3 |\n",
            "| Cliente 6   |                  2 |\n",
            "| Cliente 91  |                  2 |\n",
            "| Cliente 92  |                  2 |\n",
            "| Cliente 51  |                  2 |\n",
            "| Cliente 53  |                  2 |\n",
            "| Cliente 54  |                  2 |\n",
            "| Cliente 84  |                  2 |\n",
            "| Cliente 25  |                  2 |\n",
            "| Cliente 111 |                  2 |\n",
            "| Cliente 108 |                  2 |\n",
            "| Cliente 58  |                  2 |\n",
            "| Cliente 93  |                  2 |\n",
            "| Cliente 126 |                  2 |\n",
            "| Cliente 118 |                  2 |\n",
            "| Cliente 101 |                  2 |\n",
            "| Cliente 79  |                  2 |\n",
            "| Cliente 78  |                  2 |\n",
            "| Cliente 77  |                  2 |\n",
            "| Cliente 131 |                  2 |\n",
            "| Cliente 124 |                  2 |\n",
            "| Cliente 123 |                  2 |\n",
            "| Cliente 136 |                  2 |\n",
            "| Cliente 73  |                  2 |\n",
            "| Cliente 140 |                  2 |\n",
            "| Cliente 69  |                  2 |\n",
            "| Cliente 46  |                  2 |\n",
            "| Cliente 145 |                  2 |\n",
            "| Cliente 66  |                  2 |\n",
            "| Cliente 149 |                  2 |\n",
            "| Cliente 62  |                  2 |\n",
            "| Cliente 65  |                  2 |\n",
            "| Cliente 97  |                  1 |\n",
            "| Cliente 48  |                  1 |\n",
            "| Cliente 98  |                  1 |\n",
            "| Cliente 49  |                  1 |\n",
            "| Cliente 85  |                  1 |\n",
            "| Cliente 95  |                  1 |\n",
            "| Cliente 90  |                  1 |\n",
            "| Cliente 55  |                  1 |\n",
            "| Cliente 56  |                  1 |\n",
            "| Cliente 57  |                  1 |\n",
            "| Cliente 61  |                  1 |\n",
            "| Cliente 63  |                  1 |\n",
            "| Cliente 70  |                  1 |\n",
            "| Cliente 88  |                  1 |\n",
            "| Cliente 87  |                  1 |\n",
            "| Cliente 74  |                  1 |\n",
            "| Cliente 86  |                  1 |\n",
            "| Cliente 80  |                  1 |\n",
            "| Cliente 60  |                  1 |\n",
            "| Cliente 1   |                  1 |\n",
            "| Cliente 45  |                  1 |\n",
            "| Cliente 137 |                  1 |\n",
            "| Cliente 133 |                  1 |\n",
            "| Cliente 132 |                  1 |\n",
            "| Cliente 130 |                  1 |\n",
            "| Cliente 129 |                  1 |\n",
            "| Cliente 128 |                  1 |\n",
            "| Cliente 127 |                  1 |\n",
            "| Cliente 125 |                  1 |\n",
            "| Cliente 122 |                  1 |\n",
            "| Cliente 121 |                  1 |\n",
            "| Cliente 120 |                  1 |\n",
            "| Cliente 119 |                  1 |\n",
            "| Cliente 117 |                  1 |\n",
            "| Cliente 115 |                  1 |\n",
            "| Cliente 114 |                  1 |\n",
            "| Cliente 113 |                  1 |\n",
            "| Cliente 112 |                  1 |\n",
            "| Cliente 110 |                  1 |\n",
            "| Cliente 11  |                  1 |\n",
            "| Cliente 107 |                  1 |\n",
            "| Cliente 106 |                  1 |\n",
            "| Cliente 105 |                  1 |\n",
            "| Cliente 104 |                  1 |\n",
            "| Cliente 103 |                  1 |\n",
            "| Cliente 102 |                  1 |\n",
            "| Cliente 100 |                  1 |\n",
            "| Cliente 135 |                  1 |\n",
            "| Cliente 139 |                  1 |\n",
            "| Cliente 41  |                  1 |\n",
            "| Cliente 141 |                  1 |\n",
            "| Cliente 39  |                  1 |\n",
            "| Cliente 36  |                  1 |\n",
            "| Cliente 35  |                  1 |\n",
            "| Cliente 28  |                  1 |\n",
            "| Cliente 22  |                  1 |\n",
            "| Cliente 20  |                  1 |\n",
            "| Cliente 19  |                  1 |\n",
            "| Cliente 18  |                  1 |\n",
            "| Cliente 160 |                  1 |\n",
            "| Cliente 159 |                  1 |\n",
            "| Cliente 158 |                  1 |\n",
            "| Cliente 157 |                  1 |\n",
            "| Cliente 156 |                  1 |\n",
            "| Cliente 155 |                  1 |\n",
            "| Cliente 154 |                  1 |\n",
            "| Cliente 153 |                  1 |\n",
            "| Cliente 152 |                  1 |\n",
            "| Cliente 151 |                  1 |\n",
            "| Cliente 150 |                  1 |\n",
            "| Cliente 148 |                  1 |\n",
            "| Cliente 147 |                  1 |\n",
            "| Cliente 146 |                  1 |\n",
            "| Cliente 144 |                  1 |\n",
            "| Cliente 143 |                  1 |\n",
            "| Cliente 142 |                  1 |\n",
            "| Cliente 99  |                  1 |\n"
          ]
        }
      ]
    }
  ]
}