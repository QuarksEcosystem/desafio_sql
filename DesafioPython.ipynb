{
 "cells": [
  {
   "cell_type": "code",
   "execution_count": 1,
   "metadata": {},
   "outputs": [],
   "source": [
    "import pandas as pd"
   ]
  },
  {
   "cell_type": "markdown",
   "metadata": {},
   "source": [
    "### Carregamento e Tratamento dos dados"
   ]
  },
  {
   "cell_type": "code",
   "execution_count": 2,
   "metadata": {},
   "outputs": [
    {
     "data": {
      "text/html": [
       "<div>\n",
       "<style scoped>\n",
       "    .dataframe tbody tr th:only-of-type {\n",
       "        vertical-align: middle;\n",
       "    }\n",
       "\n",
       "    .dataframe tbody tr th {\n",
       "        vertical-align: top;\n",
       "    }\n",
       "\n",
       "    .dataframe thead th {\n",
       "        text-align: right;\n",
       "    }\n",
       "</style>\n",
       "<table border=\"1\" class=\"dataframe\">\n",
       "  <thead>\n",
       "    <tr style=\"text-align: right;\">\n",
       "      <th></th>\n",
       "      <th>Cliente</th>\n",
       "      <th>ID</th>\n",
       "      <th>Tipo</th>\n",
       "      <th>Data da Venda</th>\n",
       "      <th>Categoria</th>\n",
       "      <th>Vendedor</th>\n",
       "      <th>Regional</th>\n",
       "      <th>Duração do Contrato (Meses)</th>\n",
       "      <th>Equipe</th>\n",
       "      <th>Valor</th>\n",
       "      <th>Unnamed: 10</th>\n",
       "    </tr>\n",
       "  </thead>\n",
       "  <tbody>\n",
       "    <tr>\n",
       "      <th>663</th>\n",
       "      <td>Cliente 6</td>\n",
       "      <td>2018-0030</td>\n",
       "      <td>Serviços</td>\n",
       "      <td>30/01/2018</td>\n",
       "      <td>Novo Logo</td>\n",
       "      <td>Vendedor 1</td>\n",
       "      <td>Brasil</td>\n",
       "      <td>4</td>\n",
       "      <td>Time 1</td>\n",
       "      <td>R$ 120.800,00</td>\n",
       "      <td>NaN</td>\n",
       "    </tr>\n",
       "    <tr>\n",
       "      <th>647</th>\n",
       "      <td>Cliente 52</td>\n",
       "      <td>2020-2895</td>\n",
       "      <td>Serviços</td>\n",
       "      <td>21/10/2020</td>\n",
       "      <td>Renovação</td>\n",
       "      <td>Vendedor 16</td>\n",
       "      <td>Brasil</td>\n",
       "      <td>3</td>\n",
       "      <td>Time 3</td>\n",
       "      <td>R$ 100.568,96</td>\n",
       "      <td>NaN</td>\n",
       "    </tr>\n",
       "    <tr>\n",
       "      <th>195</th>\n",
       "      <td>Cliente 16</td>\n",
       "      <td>2019-1586</td>\n",
       "      <td>Serviços</td>\n",
       "      <td>14/10/2019</td>\n",
       "      <td>Upselling</td>\n",
       "      <td>Vendedor 1</td>\n",
       "      <td>Brasil</td>\n",
       "      <td>1</td>\n",
       "      <td>Time 1</td>\n",
       "      <td>R$ 103.569,45</td>\n",
       "      <td>NaN</td>\n",
       "    </tr>\n",
       "    <tr>\n",
       "      <th>529</th>\n",
       "      <td>Cliente 5</td>\n",
       "      <td>2018-0598</td>\n",
       "      <td>Serviços</td>\n",
       "      <td>26/11/2018</td>\n",
       "      <td>Upselling</td>\n",
       "      <td>Vendedor 3</td>\n",
       "      <td>Brasil</td>\n",
       "      <td>2</td>\n",
       "      <td>Time 1</td>\n",
       "      <td>R$ 344.841,12</td>\n",
       "      <td>NaN</td>\n",
       "    </tr>\n",
       "    <tr>\n",
       "      <th>724</th>\n",
       "      <td>Cliente 76</td>\n",
       "      <td>2020-3043</td>\n",
       "      <td>Serviços</td>\n",
       "      <td>29/12/2020</td>\n",
       "      <td>Upselling</td>\n",
       "      <td>Vendedor 1</td>\n",
       "      <td>Brasil</td>\n",
       "      <td>3</td>\n",
       "      <td>Time 1</td>\n",
       "      <td>R$ 82.400,20</td>\n",
       "      <td>NaN</td>\n",
       "    </tr>\n",
       "  </tbody>\n",
       "</table>\n",
       "</div>"
      ],
      "text/plain": [
       "        Cliente         ID      Tipo Data da Venda  Categoria     Vendedor  \\\n",
       "663   Cliente 6  2018-0030  Serviços    30/01/2018  Novo Logo   Vendedor 1   \n",
       "647  Cliente 52  2020-2895  Serviços    21/10/2020  Renovação  Vendedor 16   \n",
       "195  Cliente 16  2019-1586  Serviços    14/10/2019  Upselling   Vendedor 1   \n",
       "529   Cliente 5  2018-0598  Serviços    26/11/2018  Upselling   Vendedor 3   \n",
       "724  Cliente 76  2020-3043  Serviços    29/12/2020  Upselling   Vendedor 1   \n",
       "\n",
       "    Regional  Duração do Contrato (Meses)  Equipe            Valor  \\\n",
       "663   Brasil                            4  Time 1   R$ 120.800,00    \n",
       "647   Brasil                            3  Time 3   R$ 100.568,96    \n",
       "195   Brasil                            1  Time 1   R$ 103.569,45    \n",
       "529   Brasil                            2  Time 1   R$ 344.841,12    \n",
       "724   Brasil                            3  Time 1    R$ 82.400,20    \n",
       "\n",
       "     Unnamed: 10  \n",
       "663          NaN  \n",
       "647          NaN  \n",
       "195          NaN  \n",
       "529          NaN  \n",
       "724          NaN  "
      ]
     },
     "execution_count": 2,
     "metadata": {},
     "output_type": "execute_result"
    }
   ],
   "source": [
    "dados = pd.read_csv('DB_Teste.csv', sep=';')\n",
    "dados.sample(5)"
   ]
  },
  {
   "cell_type": "markdown",
   "metadata": {},
   "source": [
    "Temos aqui uma coluna chamada Unnamed que provavelmente foi criada pelo Pandas, dessa forma, vamos fazer um panorama dos nossos dados"
   ]
  },
  {
   "cell_type": "code",
   "execution_count": 3,
   "metadata": {},
   "outputs": [
    {
     "name": "stdout",
     "output_type": "stream",
     "text": [
      "<class 'pandas.core.frame.DataFrame'>\n",
      "RangeIndex: 853 entries, 0 to 852\n",
      "Data columns (total 11 columns):\n",
      " #   Column                       Non-Null Count  Dtype  \n",
      "---  ------                       --------------  -----  \n",
      " 0   Cliente                      853 non-null    object \n",
      " 1   ID                           853 non-null    object \n",
      " 2   Tipo                         853 non-null    object \n",
      " 3   Data da Venda                853 non-null    object \n",
      " 4   Categoria                    853 non-null    object \n",
      " 5   Vendedor                     853 non-null    object \n",
      " 6   Regional                     853 non-null    object \n",
      " 7   Duração do Contrato (Meses)  853 non-null    int64  \n",
      " 8   Equipe                       853 non-null    object \n",
      " 9   Valor                        853 non-null    object \n",
      " 10  Unnamed: 10                  0 non-null      float64\n",
      "dtypes: float64(1), int64(1), object(9)\n",
      "memory usage: 73.4+ KB\n"
     ]
    }
   ],
   "source": [
    "dados.info()"
   ]
  },
  {
   "cell_type": "markdown",
   "metadata": {},
   "source": [
    "Vemos que a coluna Unnamed possui todos os valores nulos, então podemos remove-la, pois não precisaremos dela para os objetivos"
   ]
  },
  {
   "cell_type": "code",
   "execution_count": 4,
   "metadata": {},
   "outputs": [
    {
     "data": {
      "text/html": [
       "<div>\n",
       "<style scoped>\n",
       "    .dataframe tbody tr th:only-of-type {\n",
       "        vertical-align: middle;\n",
       "    }\n",
       "\n",
       "    .dataframe tbody tr th {\n",
       "        vertical-align: top;\n",
       "    }\n",
       "\n",
       "    .dataframe thead th {\n",
       "        text-align: right;\n",
       "    }\n",
       "</style>\n",
       "<table border=\"1\" class=\"dataframe\">\n",
       "  <thead>\n",
       "    <tr style=\"text-align: right;\">\n",
       "      <th></th>\n",
       "      <th>Cliente</th>\n",
       "      <th>ID</th>\n",
       "      <th>Tipo</th>\n",
       "      <th>Data da Venda</th>\n",
       "      <th>Categoria</th>\n",
       "      <th>Vendedor</th>\n",
       "      <th>Regional</th>\n",
       "      <th>Duração do Contrato (Meses)</th>\n",
       "      <th>Equipe</th>\n",
       "      <th>Valor</th>\n",
       "    </tr>\n",
       "  </thead>\n",
       "  <tbody>\n",
       "    <tr>\n",
       "      <th>534</th>\n",
       "      <td>Cliente 5</td>\n",
       "      <td>2019-0905</td>\n",
       "      <td>Serviços</td>\n",
       "      <td>25/02/2019</td>\n",
       "      <td>Upselling</td>\n",
       "      <td>Vendedor 3</td>\n",
       "      <td>Brasil</td>\n",
       "      <td>3</td>\n",
       "      <td>Time 1</td>\n",
       "      <td>R$ 207.602,50</td>\n",
       "    </tr>\n",
       "    <tr>\n",
       "      <th>802</th>\n",
       "      <td>Cliente 82</td>\n",
       "      <td>2020-2988</td>\n",
       "      <td>Produtos</td>\n",
       "      <td>30/11/2020</td>\n",
       "      <td>Cross selling</td>\n",
       "      <td>Vendedor 3</td>\n",
       "      <td>Brasil</td>\n",
       "      <td>12</td>\n",
       "      <td>Time 1</td>\n",
       "      <td>R$ 334.231,92</td>\n",
       "    </tr>\n",
       "    <tr>\n",
       "      <th>363</th>\n",
       "      <td>Cliente 32</td>\n",
       "      <td>2019-1543</td>\n",
       "      <td>Serviços</td>\n",
       "      <td>30/08/2019</td>\n",
       "      <td>Upselling</td>\n",
       "      <td>Vendedor 3</td>\n",
       "      <td>Brasil</td>\n",
       "      <td>1</td>\n",
       "      <td>Time 1</td>\n",
       "      <td>R$ 247.445,32</td>\n",
       "    </tr>\n",
       "    <tr>\n",
       "      <th>482</th>\n",
       "      <td>Cliente 44</td>\n",
       "      <td>2021-3289</td>\n",
       "      <td>Licenciamento</td>\n",
       "      <td>09/02/2021</td>\n",
       "      <td>Renovação</td>\n",
       "      <td>Vendedor 8</td>\n",
       "      <td>Mexico</td>\n",
       "      <td>12</td>\n",
       "      <td>Time 9</td>\n",
       "      <td>R$ 281.925,00</td>\n",
       "    </tr>\n",
       "    <tr>\n",
       "      <th>366</th>\n",
       "      <td>Cliente 33</td>\n",
       "      <td>2019-1911</td>\n",
       "      <td>Serviços</td>\n",
       "      <td>22/11/2019</td>\n",
       "      <td>Renovação</td>\n",
       "      <td>Vendedor 9</td>\n",
       "      <td>Brasil</td>\n",
       "      <td>12</td>\n",
       "      <td>Time 3</td>\n",
       "      <td>R$ 161.840,64</td>\n",
       "    </tr>\n",
       "  </tbody>\n",
       "</table>\n",
       "</div>"
      ],
      "text/plain": [
       "        Cliente         ID           Tipo Data da Venda      Categoria  \\\n",
       "534   Cliente 5  2019-0905       Serviços    25/02/2019      Upselling   \n",
       "802  Cliente 82  2020-2988       Produtos    30/11/2020  Cross selling   \n",
       "363  Cliente 32  2019-1543       Serviços    30/08/2019      Upselling   \n",
       "482  Cliente 44  2021-3289  Licenciamento    09/02/2021      Renovação   \n",
       "366  Cliente 33  2019-1911       Serviços    22/11/2019      Renovação   \n",
       "\n",
       "       Vendedor Regional  Duração do Contrato (Meses)  Equipe            Valor  \n",
       "534  Vendedor 3   Brasil                            3  Time 1   R$ 207.602,50   \n",
       "802  Vendedor 3   Brasil                           12  Time 1   R$ 334.231,92   \n",
       "363  Vendedor 3   Brasil                            1  Time 1   R$ 247.445,32   \n",
       "482  Vendedor 8   Mexico                           12  Time 9   R$ 281.925,00   \n",
       "366  Vendedor 9   Brasil                           12  Time 3   R$ 161.840,64   "
      ]
     },
     "execution_count": 4,
     "metadata": {},
     "output_type": "execute_result"
    }
   ],
   "source": [
    "dados = dados.drop(columns='Unnamed: 10', axis=1)\n",
    "dados.sample(5)"
   ]
  },
  {
   "cell_type": "markdown",
   "metadata": {},
   "source": [
    "Agora, deve-se verificar se a ID de cada venda são todos únicos, de forma que possamos garantir até certo ponto que os nossos dados são todos únicos."
   ]
  },
  {
   "cell_type": "code",
   "execution_count": 5,
   "metadata": {},
   "outputs": [
    {
     "data": {
      "text/plain": [
       "count\n",
       "1    851\n",
       "2      1\n",
       "Name: count, dtype: int64"
      ]
     },
     "execution_count": 5,
     "metadata": {},
     "output_type": "execute_result"
    }
   ],
   "source": [
    "duplo = dados['ID'].value_counts()\n",
    "duplo.value_counts()"
   ]
  },
  {
   "cell_type": "markdown",
   "metadata": {},
   "source": [
    "Temos aqui 851 ID's únicas, e uma está duplicada, vamos então criar uma máscara para filtrar e listar essas vendas"
   ]
  },
  {
   "cell_type": "code",
   "execution_count": 6,
   "metadata": {},
   "outputs": [
    {
     "data": {
      "text/html": [
       "<div>\n",
       "<style scoped>\n",
       "    .dataframe tbody tr th:only-of-type {\n",
       "        vertical-align: middle;\n",
       "    }\n",
       "\n",
       "    .dataframe tbody tr th {\n",
       "        vertical-align: top;\n",
       "    }\n",
       "\n",
       "    .dataframe thead th {\n",
       "        text-align: right;\n",
       "    }\n",
       "</style>\n",
       "<table border=\"1\" class=\"dataframe\">\n",
       "  <thead>\n",
       "    <tr style=\"text-align: right;\">\n",
       "      <th></th>\n",
       "      <th>Cliente</th>\n",
       "      <th>ID</th>\n",
       "      <th>Tipo</th>\n",
       "      <th>Data da Venda</th>\n",
       "      <th>Categoria</th>\n",
       "      <th>Vendedor</th>\n",
       "      <th>Regional</th>\n",
       "      <th>Duração do Contrato (Meses)</th>\n",
       "      <th>Equipe</th>\n",
       "      <th>Valor</th>\n",
       "    </tr>\n",
       "  </thead>\n",
       "  <tbody>\n",
       "    <tr>\n",
       "      <th>323</th>\n",
       "      <td>Cliente 3</td>\n",
       "      <td>2021-3656</td>\n",
       "      <td>Produtos</td>\n",
       "      <td>07/04/2021</td>\n",
       "      <td>Upselling</td>\n",
       "      <td>Vendedor 28</td>\n",
       "      <td>Brasil</td>\n",
       "      <td>22</td>\n",
       "      <td>Time 1</td>\n",
       "      <td>R$ 1.305.402,59</td>\n",
       "    </tr>\n",
       "    <tr>\n",
       "      <th>325</th>\n",
       "      <td>Cliente 3</td>\n",
       "      <td>2021-3656</td>\n",
       "      <td>Produtos</td>\n",
       "      <td>23/04/2021</td>\n",
       "      <td>Upselling</td>\n",
       "      <td>Vendedor 28</td>\n",
       "      <td>Brasil</td>\n",
       "      <td>22</td>\n",
       "      <td>Time 1</td>\n",
       "      <td>R$ 1.345.026,41</td>\n",
       "    </tr>\n",
       "  </tbody>\n",
       "</table>\n",
       "</div>"
      ],
      "text/plain": [
       "       Cliente         ID      Tipo Data da Venda  Categoria     Vendedor  \\\n",
       "323  Cliente 3  2021-3656  Produtos    07/04/2021  Upselling  Vendedor 28   \n",
       "325  Cliente 3  2021-3656  Produtos    23/04/2021  Upselling  Vendedor 28   \n",
       "\n",
       "    Regional  Duração do Contrato (Meses)  Equipe              Valor  \n",
       "323   Brasil                           22  Time 1   R$ 1.305.402,59   \n",
       "325   Brasil                           22  Time 1   R$ 1.345.026,41   "
      ]
     },
     "execution_count": 6,
     "metadata": {},
     "output_type": "execute_result"
    }
   ],
   "source": [
    "mask = duplo == 2  #mask recebe True se value_counts de duplo for == 2\n",
    "duplo_ids = duplo.index[mask] #filtra os ids duplicados a partir de mask True\n",
    "duplo_ids = list(duplo_ids)\n",
    "dados.loc[dados['ID'].isin(duplo_ids)].head(10)"
   ]
  },
  {
   "cell_type": "markdown",
   "metadata": {},
   "source": [
    "Aqui, numa situação real, deve-se contatar o cliente e verificar se ele sabe o motivo da ID estar duplicada e fazer o tratamento posteriormente disso se for necessário.\n",
    "\n",
    "Por enquanto, vamos assumir que uma das ID's está incorreta e vamos prosseguir com os restantes dos valores para os nossos objetivos."
   ]
  },
  {
   "cell_type": "markdown",
   "metadata": {},
   "source": [
    "Agora, verificando se as datas dos nossos dados correspondem ao que nos foi apresentado (2018 - 2021)"
   ]
  },
  {
   "cell_type": "code",
   "execution_count": 18,
   "metadata": {},
   "outputs": [
    {
     "data": {
      "text/plain": [
       "Timestamp('2018-01-02 00:00:00')"
      ]
     },
     "execution_count": 18,
     "metadata": {},
     "output_type": "execute_result"
    }
   ],
   "source": [
    "pd.to_datetime(dados['Data da Venda'], format='%d/%m/%Y').min()"
   ]
  },
  {
   "cell_type": "code",
   "execution_count": 19,
   "metadata": {},
   "outputs": [
    {
     "data": {
      "text/plain": [
       "Timestamp('2021-04-30 00:00:00')"
      ]
     },
     "execution_count": 19,
     "metadata": {},
     "output_type": "execute_result"
    }
   ],
   "source": [
    "pd.to_datetime(dados['Data da Venda'], format='%d/%m/%Y').max()"
   ]
  },
  {
   "cell_type": "markdown",
   "metadata": {},
   "source": [
    "Por fim, para os nossos objetivos, teremos que utilizar os valores da coluna Valor, mas como ele é do tipo object, precisamos tratar esses dados para um tipo numerico para então prosseguir"
   ]
  },
  {
   "cell_type": "markdown",
   "metadata": {},
   "source": [
    "Para isso, vamos remover o simbolo do Real e os pontos e alterar o sinal da casa decimal"
   ]
  },
  {
   "cell_type": "code",
   "execution_count": 9,
   "metadata": {},
   "outputs": [
    {
     "data": {
      "text/plain": [
       "<bound method Series.info of 0       24800.00\n",
       "1      302720.00\n",
       "2       51894.86\n",
       "3       51894.86\n",
       "4       51894.86\n",
       "         ...    \n",
       "848    273000.00\n",
       "849    120964.32\n",
       "850    281880.00\n",
       "851    720000.00\n",
       "852    296498.85\n",
       "Name: Valor, Length: 853, dtype: float64>"
      ]
     },
     "execution_count": 9,
     "metadata": {},
     "output_type": "execute_result"
    }
   ],
   "source": [
    "valor = dados['Valor']\n",
    "valor = valor.str.replace('R$ ','')\n",
    "valor = valor.str.replace('.','')\n",
    "valor = valor.str.replace(',','.')\n",
    "valor = pd.to_numeric(valor)\n",
    "valor.info"
   ]
  },
  {
   "cell_type": "markdown",
   "metadata": {},
   "source": [
    "Com os valores ajustados, podemos inclui-la nos nossos dados e partir para os objetivos"
   ]
  },
  {
   "cell_type": "code",
   "execution_count": 10,
   "metadata": {},
   "outputs": [
    {
     "data": {
      "text/html": [
       "<div>\n",
       "<style scoped>\n",
       "    .dataframe tbody tr th:only-of-type {\n",
       "        vertical-align: middle;\n",
       "    }\n",
       "\n",
       "    .dataframe tbody tr th {\n",
       "        vertical-align: top;\n",
       "    }\n",
       "\n",
       "    .dataframe thead th {\n",
       "        text-align: right;\n",
       "    }\n",
       "</style>\n",
       "<table border=\"1\" class=\"dataframe\">\n",
       "  <thead>\n",
       "    <tr style=\"text-align: right;\">\n",
       "      <th></th>\n",
       "      <th>Cliente</th>\n",
       "      <th>ID</th>\n",
       "      <th>Tipo</th>\n",
       "      <th>Data da Venda</th>\n",
       "      <th>Categoria</th>\n",
       "      <th>Vendedor</th>\n",
       "      <th>Regional</th>\n",
       "      <th>Duração do Contrato (Meses)</th>\n",
       "      <th>Equipe</th>\n",
       "      <th>Valor</th>\n",
       "      <th>Valores</th>\n",
       "    </tr>\n",
       "  </thead>\n",
       "  <tbody>\n",
       "    <tr>\n",
       "      <th>327</th>\n",
       "      <td>Cliente 30</td>\n",
       "      <td>2018-0273</td>\n",
       "      <td>Licenciamento</td>\n",
       "      <td>31/07/2018</td>\n",
       "      <td>Upselling</td>\n",
       "      <td>Vendedor 8</td>\n",
       "      <td>Mexico</td>\n",
       "      <td>6</td>\n",
       "      <td>Time 6</td>\n",
       "      <td>R$ 87.262,50</td>\n",
       "      <td>87262.50</td>\n",
       "    </tr>\n",
       "    <tr>\n",
       "      <th>818</th>\n",
       "      <td>Cliente 9</td>\n",
       "      <td>2018-0136</td>\n",
       "      <td>Serviços</td>\n",
       "      <td>29/05/2018</td>\n",
       "      <td>Upselling</td>\n",
       "      <td>Vendedor 4</td>\n",
       "      <td>Brasil</td>\n",
       "      <td>2</td>\n",
       "      <td>Time 2</td>\n",
       "      <td>R$ 51.200,00</td>\n",
       "      <td>51200.00</td>\n",
       "    </tr>\n",
       "    <tr>\n",
       "      <th>617</th>\n",
       "      <td>Cliente 5</td>\n",
       "      <td>2021-3421</td>\n",
       "      <td>Serviços</td>\n",
       "      <td>18/02/2021</td>\n",
       "      <td>Upselling</td>\n",
       "      <td>Vendedor 3</td>\n",
       "      <td>Brasil</td>\n",
       "      <td>10</td>\n",
       "      <td>Time 1</td>\n",
       "      <td>R$ 269.948,16</td>\n",
       "      <td>269948.16</td>\n",
       "    </tr>\n",
       "    <tr>\n",
       "      <th>750</th>\n",
       "      <td>Cliente 8</td>\n",
       "      <td>2019-1301</td>\n",
       "      <td>Serviços</td>\n",
       "      <td>18/09/2019</td>\n",
       "      <td>Upselling</td>\n",
       "      <td>Vendedor 3</td>\n",
       "      <td>Brasil</td>\n",
       "      <td>7</td>\n",
       "      <td>Time 1</td>\n",
       "      <td>R$ 279.552,00</td>\n",
       "      <td>279552.00</td>\n",
       "    </tr>\n",
       "    <tr>\n",
       "      <th>473</th>\n",
       "      <td>Cliente 43</td>\n",
       "      <td>2019-0847</td>\n",
       "      <td>Produtos</td>\n",
       "      <td>18/12/2019</td>\n",
       "      <td>Upselling</td>\n",
       "      <td>Vendedor 13</td>\n",
       "      <td>Brasil</td>\n",
       "      <td>12</td>\n",
       "      <td>Time 3</td>\n",
       "      <td>R$ 670.518,00</td>\n",
       "      <td>670518.00</td>\n",
       "    </tr>\n",
       "  </tbody>\n",
       "</table>\n",
       "</div>"
      ],
      "text/plain": [
       "        Cliente         ID           Tipo Data da Venda  Categoria  \\\n",
       "327  Cliente 30  2018-0273  Licenciamento    31/07/2018  Upselling   \n",
       "818   Cliente 9  2018-0136       Serviços    29/05/2018  Upselling   \n",
       "617   Cliente 5  2021-3421       Serviços    18/02/2021  Upselling   \n",
       "750   Cliente 8  2019-1301       Serviços    18/09/2019  Upselling   \n",
       "473  Cliente 43  2019-0847       Produtos    18/12/2019  Upselling   \n",
       "\n",
       "        Vendedor Regional  Duração do Contrato (Meses)  Equipe  \\\n",
       "327   Vendedor 8   Mexico                            6  Time 6   \n",
       "818   Vendedor 4   Brasil                            2  Time 2   \n",
       "617   Vendedor 3   Brasil                           10  Time 1   \n",
       "750   Vendedor 3   Brasil                            7  Time 1   \n",
       "473  Vendedor 13   Brasil                           12  Time 3   \n",
       "\n",
       "               Valor    Valores  \n",
       "327    R$ 87.262,50    87262.50  \n",
       "818    R$ 51.200,00    51200.00  \n",
       "617   R$ 269.948,16   269948.16  \n",
       "750   R$ 279.552,00   279552.00  \n",
       "473   R$ 670.518,00   670518.00  "
      ]
     },
     "execution_count": 10,
     "metadata": {},
     "output_type": "execute_result"
    }
   ],
   "source": [
    "dados = pd.concat((dados, valor.rename('Valores')), axis=1)\n",
    "dados.sample(5)"
   ]
  },
  {
   "cell_type": "markdown",
   "metadata": {},
   "source": [
    "### Construa uma tabela auxiliar que sumarize o valor vendido por cada vendedor, ordenando do maior para o menor;"
   ]
  },
  {
   "cell_type": "code",
   "execution_count": 11,
   "metadata": {},
   "outputs": [
    {
     "data": {
      "text/html": [
       "<div>\n",
       "<style scoped>\n",
       "    .dataframe tbody tr th:only-of-type {\n",
       "        vertical-align: middle;\n",
       "    }\n",
       "\n",
       "    .dataframe tbody tr th {\n",
       "        vertical-align: top;\n",
       "    }\n",
       "\n",
       "    .dataframe thead th {\n",
       "        text-align: right;\n",
       "    }\n",
       "</style>\n",
       "<table border=\"1\" class=\"dataframe\">\n",
       "  <thead>\n",
       "    <tr style=\"text-align: right;\">\n",
       "      <th></th>\n",
       "      <th>Vendedor</th>\n",
       "      <th>Valor Vendido</th>\n",
       "    </tr>\n",
       "  </thead>\n",
       "  <tbody>\n",
       "    <tr>\n",
       "      <th>22</th>\n",
       "      <td>Vendedor 3</td>\n",
       "      <td>1.662205e+08</td>\n",
       "    </tr>\n",
       "    <tr>\n",
       "      <th>27</th>\n",
       "      <td>Vendedor 7</td>\n",
       "      <td>5.779918e+07</td>\n",
       "    </tr>\n",
       "    <tr>\n",
       "      <th>1</th>\n",
       "      <td>Vendedor 10</td>\n",
       "      <td>5.221206e+07</td>\n",
       "    </tr>\n",
       "    <tr>\n",
       "      <th>28</th>\n",
       "      <td>Vendedor 8</td>\n",
       "      <td>4.727451e+07</td>\n",
       "    </tr>\n",
       "    <tr>\n",
       "      <th>0</th>\n",
       "      <td>Vendedor 1</td>\n",
       "      <td>3.092948e+07</td>\n",
       "    </tr>\n",
       "    <tr>\n",
       "      <th>29</th>\n",
       "      <td>Vendedor 9</td>\n",
       "      <td>2.637456e+07</td>\n",
       "    </tr>\n",
       "    <tr>\n",
       "      <th>4</th>\n",
       "      <td>Vendedor 13</td>\n",
       "      <td>2.483730e+07</td>\n",
       "    </tr>\n",
       "    <tr>\n",
       "      <th>9</th>\n",
       "      <td>Vendedor 18</td>\n",
       "      <td>2.266230e+07</td>\n",
       "    </tr>\n",
       "    <tr>\n",
       "      <th>21</th>\n",
       "      <td>Vendedor 29</td>\n",
       "      <td>1.907687e+07</td>\n",
       "    </tr>\n",
       "    <tr>\n",
       "      <th>24</th>\n",
       "      <td>Vendedor 4</td>\n",
       "      <td>1.734682e+07</td>\n",
       "    </tr>\n",
       "  </tbody>\n",
       "</table>\n",
       "</div>"
      ],
      "text/plain": [
       "       Vendedor  Valor Vendido\n",
       "22   Vendedor 3   1.662205e+08\n",
       "27   Vendedor 7   5.779918e+07\n",
       "1   Vendedor 10   5.221206e+07\n",
       "28   Vendedor 8   4.727451e+07\n",
       "0    Vendedor 1   3.092948e+07\n",
       "29   Vendedor 9   2.637456e+07\n",
       "4   Vendedor 13   2.483730e+07\n",
       "9   Vendedor 18   2.266230e+07\n",
       "21  Vendedor 29   1.907687e+07\n",
       "24   Vendedor 4   1.734682e+07"
      ]
     },
     "execution_count": 11,
     "metadata": {},
     "output_type": "execute_result"
    }
   ],
   "source": [
    "vendedores = dados[['Vendedor','Valores']].groupby(by=['Vendedor']).sum().reset_index()\n",
    "vendedores = vendedores.rename(columns={'Valores' : 'Valor Vendido'})\n",
    "vendedores = vendedores.sort_values(by='Valor Vendido', ascending=False)\n",
    "vendedores.head(10)"
   ]
  },
  {
   "cell_type": "markdown",
   "metadata": {},
   "source": [
    "### Imprima e identifica qual foi o cliente responsável pela venda com maior valor e com menor valor;"
   ]
  },
  {
   "cell_type": "code",
   "execution_count": 12,
   "metadata": {},
   "outputs": [
    {
     "name": "stdout",
     "output_type": "stream",
     "text": [
      "O cliente com o maior valor de venda eh: Cliente 89\n",
      "Com o valor de: 24970500.0\n"
     ]
    }
   ],
   "source": [
    "clienteMax = dados.loc[dados['Valores'].idxmax()]\n",
    "print('O cliente com o maior valor de venda eh: '+clienteMax['Cliente']+'\\nCom o valor de: '+ str(clienteMax['Valores']))"
   ]
  },
  {
   "cell_type": "code",
   "execution_count": 13,
   "metadata": {},
   "outputs": [
    {
     "name": "stdout",
     "output_type": "stream",
     "text": [
      "O cliente com o menor valor de venda eh: Cliente 120\n",
      "Com o valor de: 1250.0\n"
     ]
    }
   ],
   "source": [
    "clienteMin = dados.loc[dados['Valores'].idxmin()]\n",
    "print('O cliente com o menor valor de venda eh: '+clienteMin['Cliente']+'\\nCom o valor de: '+ str(clienteMin['Valores']))"
   ]
  },
  {
   "cell_type": "markdown",
   "metadata": {},
   "source": [
    "### Imprima valor médio por Tipo de venda (Serviços, Licenciamento, Produtos)"
   ]
  },
  {
   "cell_type": "code",
   "execution_count": 14,
   "metadata": {},
   "outputs": [
    {
     "name": "stdout",
     "output_type": "stream",
     "text": [
      "            Tipo  Media de valor vendido\n",
      "0  Licenciamento           983448.768963\n",
      "1       Produtos           893409.190065\n",
      "2       Serviços           314567.937298\n"
     ]
    }
   ],
   "source": [
    "tipoVenda = dados[['Tipo','Valores']].groupby(by=['Tipo']).mean().reset_index()\n",
    "tipoVenda = tipoVenda.rename(columns={'Valores' : 'Media de valor vendido'})\n",
    "print(tipoVenda)"
   ]
  },
  {
   "cell_type": "markdown",
   "metadata": {},
   "source": [
    "#### Imprima o número de vendas realizada por cliente"
   ]
  },
  {
   "cell_type": "code",
   "execution_count": 15,
   "metadata": {},
   "outputs": [
    {
     "name": "stdout",
     "output_type": "stream",
     "text": [
      "Cliente\n",
      "Cliente 5      128\n",
      "Cliente 8       61\n",
      "Cliente 4       60\n",
      "Cliente 10      43\n",
      "Cliente 3       31\n",
      "              ... \n",
      "Cliente 146      1\n",
      "Cliente 144      1\n",
      "Cliente 143      1\n",
      "Cliente 142      1\n",
      "Cliente 99       1\n",
      "Name: count, Length: 157, dtype: int64\n"
     ]
    }
   ],
   "source": [
    "print(dados['Cliente'].value_counts())"
   ]
  },
  {
   "cell_type": "code",
   "execution_count": 16,
   "metadata": {},
   "outputs": [
    {
     "data": {
      "text/plain": [
       "Text(0, 0.5, 'Somatoria total de vendas')"
      ]
     },
     "execution_count": 16,
     "metadata": {},
     "output_type": "execute_result"
    },
    {
     "data": {
      "image/png": "[encoded data removed]",
      "text/plain": [
       "<Figure size 1500x600 with 1 Axes>"
      ]
     },
     "metadata": {},
     "output_type": "display_data"
    }
   ],
   "source": [
    "import matplotlib.pyplot as plt\n",
    "trimestre = dados[['Valores']].copy()\n",
    "trimestre['Data'] = pd.to_datetime(dados['Data da Venda'], format='%d/%m/%Y')\n",
    "trimestre['Trimestre'] = trimestre['Data'].dt.quarter\n",
    "trimestre['Ano'] = trimestre['Data'].dt.year\n",
    "grafico = trimestre.groupby(['Ano', 'Trimestre'])['Valores'].sum().reset_index()\n",
    "plt.figure(figsize=(15,6))\n",
    "plt.bar(grafico.index, grafico['Valores'],\n",
    "tick_label=grafico['Trimestre'].astype(str) + '.' + grafico['Ano'].astype(str))\n",
    "plt.xlabel('Trimestre')\n",
    "plt.ylabel('Somatoria total de vendas')"
   ]
  }
 ],
 "metadata": {
  "kernelspec": {
   "display_name": "Python 3",
   "language": "python",
   "name": "python3"
  },
  "language_info": {
   "codemirror_mode": {
    "name": "ipython",
    "version": 3
   },
   "file_extension": ".py",
   "mimetype": "text/x-python",
   "name": "python",
   "nbconvert_exporter": "python",
   "pygments_lexer": "ipython3",
   "version": "3.11.6"
  }
 },
 "nbformat": 4,
 "nbformat_minor": 2
}
