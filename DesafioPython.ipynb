{
 "cells": [
  {
   "cell_type": "code",
   "execution_count": 53,
   "metadata": {},
   "outputs": [],
   "source": [
    "import pandas as pd"
   ]
  },
  {
   "cell_type": "markdown",
   "metadata": {},
   "source": [
    "### Carregamento e Tratamento dos dados"
   ]
  },
  {
   "cell_type": "code",
   "execution_count": 54,
   "metadata": {},
   "outputs": [
    {
     "data": {
      "text/html": [
       "<div>\n",
       "<style scoped>\n",
       "    .dataframe tbody tr th:only-of-type {\n",
       "        vertical-align: middle;\n",
       "    }\n",
       "\n",
       "    .dataframe tbody tr th {\n",
       "        vertical-align: top;\n",
       "    }\n",
       "\n",
       "    .dataframe thead th {\n",
       "        text-align: right;\n",
       "    }\n",
       "</style>\n",
       "<table border=\"1\" class=\"dataframe\">\n",
       "  <thead>\n",
       "    <tr style=\"text-align: right;\">\n",
       "      <th></th>\n",
       "      <th>Cliente</th>\n",
       "      <th>ID</th>\n",
       "      <th>Tipo</th>\n",
       "      <th>Data da Venda</th>\n",
       "      <th>Categoria</th>\n",
       "      <th>Vendedor</th>\n",
       "      <th>Regional</th>\n",
       "      <th>Duração do Contrato (Meses)</th>\n",
       "      <th>Equipe</th>\n",
       "      <th>Valor</th>\n",
       "      <th>Unnamed: 10</th>\n",
       "    </tr>\n",
       "  </thead>\n",
       "  <tbody>\n",
       "    <tr>\n",
       "      <th>743</th>\n",
       "      <td>Cliente 8</td>\n",
       "      <td>2019-0960</td>\n",
       "      <td>Serviços</td>\n",
       "      <td>11/03/2019</td>\n",
       "      <td>Upselling</td>\n",
       "      <td>Vendedor 3</td>\n",
       "      <td>Brasil</td>\n",
       "      <td>3</td>\n",
       "      <td>Time 1</td>\n",
       "      <td>R$ 307.112,40</td>\n",
       "      <td>NaN</td>\n",
       "    </tr>\n",
       "    <tr>\n",
       "      <th>3</th>\n",
       "      <td>Cliente 10</td>\n",
       "      <td>2018-0168</td>\n",
       "      <td>Serviços</td>\n",
       "      <td>30/04/2018</td>\n",
       "      <td>Upselling</td>\n",
       "      <td>Vendedor 1</td>\n",
       "      <td>Brasil</td>\n",
       "      <td>2</td>\n",
       "      <td>Time 1</td>\n",
       "      <td>R$ 51.894,86</td>\n",
       "      <td>NaN</td>\n",
       "    </tr>\n",
       "    <tr>\n",
       "      <th>703</th>\n",
       "      <td>Cliente 71</td>\n",
       "      <td>2020-2396</td>\n",
       "      <td>Produtos</td>\n",
       "      <td>12/06/2020</td>\n",
       "      <td>Cross selling</td>\n",
       "      <td>Vendedor 7</td>\n",
       "      <td>Brasil</td>\n",
       "      <td>12</td>\n",
       "      <td>Time 5</td>\n",
       "      <td>R$ 1.000.000,00</td>\n",
       "      <td>NaN</td>\n",
       "    </tr>\n",
       "    <tr>\n",
       "      <th>203</th>\n",
       "      <td>Cliente 16</td>\n",
       "      <td>2020-2460</td>\n",
       "      <td>Produtos</td>\n",
       "      <td>30/11/2020</td>\n",
       "      <td>Renovação</td>\n",
       "      <td>Vendedor 20</td>\n",
       "      <td>Brasil</td>\n",
       "      <td>12</td>\n",
       "      <td>Time 3</td>\n",
       "      <td>R$ 438.000,00</td>\n",
       "      <td>NaN</td>\n",
       "    </tr>\n",
       "    <tr>\n",
       "      <th>642</th>\n",
       "      <td>Cliente 52</td>\n",
       "      <td>2019-1886</td>\n",
       "      <td>Serviços</td>\n",
       "      <td>26/11/2019</td>\n",
       "      <td>Upselling</td>\n",
       "      <td>Vendedor 9</td>\n",
       "      <td>Brasil</td>\n",
       "      <td>5</td>\n",
       "      <td>Time 3</td>\n",
       "      <td>R$ 91.649,60</td>\n",
       "      <td>NaN</td>\n",
       "    </tr>\n",
       "  </tbody>\n",
       "</table>\n",
       "</div>"
      ],
      "text/plain": [
       "        Cliente         ID      Tipo Data da Venda      Categoria  \\\n",
       "743   Cliente 8  2019-0960  Serviços    11/03/2019      Upselling   \n",
       "3    Cliente 10  2018-0168  Serviços    30/04/2018      Upselling   \n",
       "703  Cliente 71  2020-2396  Produtos    12/06/2020  Cross selling   \n",
       "203  Cliente 16  2020-2460  Produtos    30/11/2020      Renovação   \n",
       "642  Cliente 52  2019-1886  Serviços    26/11/2019      Upselling   \n",
       "\n",
       "        Vendedor Regional  Duração do Contrato (Meses)  Equipe  \\\n",
       "743   Vendedor 3   Brasil                            3  Time 1   \n",
       "3     Vendedor 1   Brasil                            2  Time 1   \n",
       "703   Vendedor 7   Brasil                           12  Time 5   \n",
       "203  Vendedor 20   Brasil                           12  Time 3   \n",
       "642   Vendedor 9   Brasil                            5  Time 3   \n",
       "\n",
       "                 Valor  Unnamed: 10  \n",
       "743     R$ 307.112,40           NaN  \n",
       "3        R$ 51.894,86           NaN  \n",
       "703   R$ 1.000.000,00           NaN  \n",
       "203     R$ 438.000,00           NaN  \n",
       "642      R$ 91.649,60           NaN  "
      ]
     },
     "execution_count": 54,
     "metadata": {},
     "output_type": "execute_result"
    }
   ],
   "source": [
    "dados = pd.read_csv('DB_Teste.csv', sep=';')\n",
    "dados.sample(5)"
   ]
  },
  {
   "cell_type": "markdown",
   "metadata": {},
   "source": [
    "Temos aqui uma coluna chamada Unnamed que provavelmente foi criada pelo Pandas, dessa forma, vamos fazer um panorama dos nossos dados"
   ]
  },
  {
   "cell_type": "code",
   "execution_count": 55,
   "metadata": {},
   "outputs": [
    {
     "name": "stdout",
     "output_type": "stream",
     "text": [
      "<class 'pandas.core.frame.DataFrame'>\n",
      "RangeIndex: 853 entries, 0 to 852\n",
      "Data columns (total 11 columns):\n",
      " #   Column                       Non-Null Count  Dtype  \n",
      "---  ------                       --------------  -----  \n",
      " 0   Cliente                      853 non-null    object \n",
      " 1   ID                           853 non-null    object \n",
      " 2   Tipo                         853 non-null    object \n",
      " 3   Data da Venda                853 non-null    object \n",
      " 4   Categoria                    853 non-null    object \n",
      " 5   Vendedor                     853 non-null    object \n",
      " 6   Regional                     853 non-null    object \n",
      " 7   Duração do Contrato (Meses)  853 non-null    int64  \n",
      " 8   Equipe                       853 non-null    object \n",
      " 9   Valor                        853 non-null    object \n",
      " 10  Unnamed: 10                  0 non-null      float64\n",
      "dtypes: float64(1), int64(1), object(9)\n",
      "memory usage: 73.4+ KB\n"
     ]
    }
   ],
   "source": [
    "dados.info()"
   ]
  },
  {
   "cell_type": "markdown",
   "metadata": {},
   "source": [
    "Vemos que a coluna Unnamed possui todos os valores nulos, então podemos remove-la, pois não precisaremos dela para os objetivos"
   ]
  },
  {
   "cell_type": "code",
   "execution_count": 56,
   "metadata": {},
   "outputs": [
    {
     "data": {
      "text/html": [
       "<div>\n",
       "<style scoped>\n",
       "    .dataframe tbody tr th:only-of-type {\n",
       "        vertical-align: middle;\n",
       "    }\n",
       "\n",
       "    .dataframe tbody tr th {\n",
       "        vertical-align: top;\n",
       "    }\n",
       "\n",
       "    .dataframe thead th {\n",
       "        text-align: right;\n",
       "    }\n",
       "</style>\n",
       "<table border=\"1\" class=\"dataframe\">\n",
       "  <thead>\n",
       "    <tr style=\"text-align: right;\">\n",
       "      <th></th>\n",
       "      <th>Cliente</th>\n",
       "      <th>ID</th>\n",
       "      <th>Tipo</th>\n",
       "      <th>Data da Venda</th>\n",
       "      <th>Categoria</th>\n",
       "      <th>Vendedor</th>\n",
       "      <th>Regional</th>\n",
       "      <th>Duração do Contrato (Meses)</th>\n",
       "      <th>Equipe</th>\n",
       "      <th>Valor</th>\n",
       "    </tr>\n",
       "  </thead>\n",
       "  <tbody>\n",
       "    <tr>\n",
       "      <th>470</th>\n",
       "      <td>Cliente 43</td>\n",
       "      <td>2019-1151</td>\n",
       "      <td>Serviços</td>\n",
       "      <td>08/05/2019</td>\n",
       "      <td>Upselling</td>\n",
       "      <td>Vendedor 13</td>\n",
       "      <td>Brasil</td>\n",
       "      <td>12</td>\n",
       "      <td>Time 3</td>\n",
       "      <td>R$ 343.203,88</td>\n",
       "    </tr>\n",
       "    <tr>\n",
       "      <th>210</th>\n",
       "      <td>Cliente 19</td>\n",
       "      <td>2018-0182</td>\n",
       "      <td>Serviços</td>\n",
       "      <td>23/04/2018</td>\n",
       "      <td>Novo Logo</td>\n",
       "      <td>Vendedor 3</td>\n",
       "      <td>Brasil</td>\n",
       "      <td>1</td>\n",
       "      <td>Time 1</td>\n",
       "      <td>R$ 6.720,00</td>\n",
       "    </tr>\n",
       "    <tr>\n",
       "      <th>279</th>\n",
       "      <td>Cliente 26</td>\n",
       "      <td>2019-1637</td>\n",
       "      <td>Serviços</td>\n",
       "      <td>24/09/2019</td>\n",
       "      <td>Cross selling</td>\n",
       "      <td>Vendedor 10</td>\n",
       "      <td>Brasil</td>\n",
       "      <td>3</td>\n",
       "      <td>Time 7</td>\n",
       "      <td>R$ 113.699,64</td>\n",
       "    </tr>\n",
       "    <tr>\n",
       "      <th>588</th>\n",
       "      <td>Cliente 5</td>\n",
       "      <td>2020-2322</td>\n",
       "      <td>Serviços</td>\n",
       "      <td>04/05/2020</td>\n",
       "      <td>Renovação</td>\n",
       "      <td>Vendedor 3</td>\n",
       "      <td>Brasil</td>\n",
       "      <td>3</td>\n",
       "      <td>Time 1</td>\n",
       "      <td>R$ 262.861,20</td>\n",
       "    </tr>\n",
       "    <tr>\n",
       "      <th>108</th>\n",
       "      <td>Cliente 13</td>\n",
       "      <td>2019-1203</td>\n",
       "      <td>Serviços</td>\n",
       "      <td>04/06/2019</td>\n",
       "      <td>Upselling</td>\n",
       "      <td>Vendedor 1</td>\n",
       "      <td>Brasil</td>\n",
       "      <td>3</td>\n",
       "      <td>Time 1</td>\n",
       "      <td>R$ 133.932,48</td>\n",
       "    </tr>\n",
       "  </tbody>\n",
       "</table>\n",
       "</div>"
      ],
      "text/plain": [
       "        Cliente         ID      Tipo Data da Venda      Categoria  \\\n",
       "470  Cliente 43  2019-1151  Serviços    08/05/2019      Upselling   \n",
       "210  Cliente 19  2018-0182  Serviços    23/04/2018      Novo Logo   \n",
       "279  Cliente 26  2019-1637  Serviços    24/09/2019  Cross selling   \n",
       "588   Cliente 5  2020-2322  Serviços    04/05/2020      Renovação   \n",
       "108  Cliente 13  2019-1203  Serviços    04/06/2019      Upselling   \n",
       "\n",
       "        Vendedor Regional  Duração do Contrato (Meses)  Equipe  \\\n",
       "470  Vendedor 13   Brasil                           12  Time 3   \n",
       "210   Vendedor 3   Brasil                            1  Time 1   \n",
       "279  Vendedor 10   Brasil                            3  Time 7   \n",
       "588   Vendedor 3   Brasil                            3  Time 1   \n",
       "108   Vendedor 1   Brasil                            3  Time 1   \n",
       "\n",
       "               Valor  \n",
       "470   R$ 343.203,88   \n",
       "210     R$ 6.720,00   \n",
       "279   R$ 113.699,64   \n",
       "588   R$ 262.861,20   \n",
       "108   R$ 133.932,48   "
      ]
     },
     "execution_count": 56,
     "metadata": {},
     "output_type": "execute_result"
    }
   ],
   "source": [
    "dados = dados.drop(columns='Unnamed: 10', axis=1)\n",
    "dados.sample(5)"
   ]
  },
  {
   "cell_type": "markdown",
   "metadata": {},
   "source": [
    "Agora, deve-se verificar se a ID de cada venda são todos únicos, de forma que possamos garantir até certo ponto que os nossos dados são todos únicos."
   ]
  },
  {
   "cell_type": "code",
   "execution_count": 57,
   "metadata": {},
   "outputs": [
    {
     "data": {
      "text/plain": [
       "count\n",
       "1    851\n",
       "2      1\n",
       "Name: count, dtype: int64"
      ]
     },
     "execution_count": 57,
     "metadata": {},
     "output_type": "execute_result"
    }
   ],
   "source": [
    "duplo = dados['ID'].value_counts()\n",
    "duplo.value_counts()"
   ]
  },
  {
   "cell_type": "markdown",
   "metadata": {},
   "source": [
    "Temos aqui 851 ID's únicas, e uma está duplicada, vamos então criar uma máscara para filtrar e listar essas vendas"
   ]
  },
  {
   "cell_type": "code",
   "execution_count": 58,
   "metadata": {},
   "outputs": [
    {
     "data": {
      "text/html": [
       "<div>\n",
       "<style scoped>\n",
       "    .dataframe tbody tr th:only-of-type {\n",
       "        vertical-align: middle;\n",
       "    }\n",
       "\n",
       "    .dataframe tbody tr th {\n",
       "        vertical-align: top;\n",
       "    }\n",
       "\n",
       "    .dataframe thead th {\n",
       "        text-align: right;\n",
       "    }\n",
       "</style>\n",
       "<table border=\"1\" class=\"dataframe\">\n",
       "  <thead>\n",
       "    <tr style=\"text-align: right;\">\n",
       "      <th></th>\n",
       "      <th>Cliente</th>\n",
       "      <th>ID</th>\n",
       "      <th>Tipo</th>\n",
       "      <th>Data da Venda</th>\n",
       "      <th>Categoria</th>\n",
       "      <th>Vendedor</th>\n",
       "      <th>Regional</th>\n",
       "      <th>Duração do Contrato (Meses)</th>\n",
       "      <th>Equipe</th>\n",
       "      <th>Valor</th>\n",
       "    </tr>\n",
       "  </thead>\n",
       "  <tbody>\n",
       "    <tr>\n",
       "      <th>323</th>\n",
       "      <td>Cliente 3</td>\n",
       "      <td>2021-3656</td>\n",
       "      <td>Produtos</td>\n",
       "      <td>07/04/2021</td>\n",
       "      <td>Upselling</td>\n",
       "      <td>Vendedor 28</td>\n",
       "      <td>Brasil</td>\n",
       "      <td>22</td>\n",
       "      <td>Time 1</td>\n",
       "      <td>R$ 1.305.402,59</td>\n",
       "    </tr>\n",
       "    <tr>\n",
       "      <th>325</th>\n",
       "      <td>Cliente 3</td>\n",
       "      <td>2021-3656</td>\n",
       "      <td>Produtos</td>\n",
       "      <td>23/04/2021</td>\n",
       "      <td>Upselling</td>\n",
       "      <td>Vendedor 28</td>\n",
       "      <td>Brasil</td>\n",
       "      <td>22</td>\n",
       "      <td>Time 1</td>\n",
       "      <td>R$ 1.345.026,41</td>\n",
       "    </tr>\n",
       "  </tbody>\n",
       "</table>\n",
       "</div>"
      ],
      "text/plain": [
       "       Cliente         ID      Tipo Data da Venda  Categoria     Vendedor  \\\n",
       "323  Cliente 3  2021-3656  Produtos    07/04/2021  Upselling  Vendedor 28   \n",
       "325  Cliente 3  2021-3656  Produtos    23/04/2021  Upselling  Vendedor 28   \n",
       "\n",
       "    Regional  Duração do Contrato (Meses)  Equipe              Valor  \n",
       "323   Brasil                           22  Time 1   R$ 1.305.402,59   \n",
       "325   Brasil                           22  Time 1   R$ 1.345.026,41   "
      ]
     },
     "execution_count": 58,
     "metadata": {},
     "output_type": "execute_result"
    }
   ],
   "source": [
    "mask = duplo == 2  #mask recebe True se value_counts de duplo for == 2\n",
    "duplo_ids = duplo.index[mask] #filtra os ids duplicados a partir de mask True\n",
    "duplo_ids = list(duplo_ids)\n",
    "dados.loc[dados['ID'].isin(duplo_ids)].head(10)"
   ]
  },
  {
   "cell_type": "markdown",
   "metadata": {},
   "source": [
    "Aqui, numa situação real, deve-se contatar o cliente e verificar se ele sabe o motivo da ID estar duplicada e fazer o tratamento posteriormente disso se for necessário.\n",
    "\n",
    "Por enquanto, vamos assumir que uma das ID's está incorreta e vamos prosseguir com os restantes dos valores para os nossos objetivos."
   ]
  },
  {
   "cell_type": "markdown",
   "metadata": {},
   "source": [
    "Agora, verificando se as datas dos nossos dados correspondem ao que nos foi apresentado (2018 - 2021)"
   ]
  },
  {
   "cell_type": "code",
   "execution_count": 59,
   "metadata": {},
   "outputs": [
    {
     "data": {
      "text/plain": [
       "'01/03/2018'"
      ]
     },
     "execution_count": 59,
     "metadata": {},
     "output_type": "execute_result"
    }
   ],
   "source": [
    "dados['Data da Venda'].min()"
   ]
  },
  {
   "cell_type": "code",
   "execution_count": 60,
   "metadata": {},
   "outputs": [
    {
     "data": {
      "text/plain": [
       "'31/12/2020'"
      ]
     },
     "execution_count": 60,
     "metadata": {},
     "output_type": "execute_result"
    }
   ],
   "source": [
    "dados['Data da Venda'].max()"
   ]
  },
  {
   "cell_type": "markdown",
   "metadata": {},
   "source": [
    "Por fim, para os nossos objetivos, teremos que utilizar os valores da coluna Valor, mas como ele é do tipo object, precisamos tratar esses dados para um tipo numerico para então prosseguir"
   ]
  },
  {
   "cell_type": "markdown",
   "metadata": {},
   "source": [
    "Para isso, vamos remover o simbolo do Real e os pontos e alterar o sinal da casa decimal"
   ]
  },
  {
   "cell_type": "code",
   "execution_count": 61,
   "metadata": {},
   "outputs": [
    {
     "data": {
      "text/plain": [
       "<bound method Series.info of 0       24800.00\n",
       "1      302720.00\n",
       "2       51894.86\n",
       "3       51894.86\n",
       "4       51894.86\n",
       "         ...    \n",
       "848    273000.00\n",
       "849    120964.32\n",
       "850    281880.00\n",
       "851    720000.00\n",
       "852    296498.85\n",
       "Name: Valor, Length: 853, dtype: float64>"
      ]
     },
     "execution_count": 61,
     "metadata": {},
     "output_type": "execute_result"
    }
   ],
   "source": [
    "valor = dados['Valor']\n",
    "valor = valor.str.replace('R$ ','')\n",
    "valor = valor.str.replace('.','')\n",
    "valor = valor.str.replace(',','.')\n",
    "valor = pd.to_numeric(valor)\n",
    "valor.info"
   ]
  },
  {
   "cell_type": "markdown",
   "metadata": {},
   "source": [
    "Com os valores ajustados, podemos inclui-la nos nossos dados e partir para os objetivos"
   ]
  },
  {
   "cell_type": "code",
   "execution_count": 62,
   "metadata": {},
   "outputs": [
    {
     "data": {
      "text/html": [
       "<div>\n",
       "<style scoped>\n",
       "    .dataframe tbody tr th:only-of-type {\n",
       "        vertical-align: middle;\n",
       "    }\n",
       "\n",
       "    .dataframe tbody tr th {\n",
       "        vertical-align: top;\n",
       "    }\n",
       "\n",
       "    .dataframe thead th {\n",
       "        text-align: right;\n",
       "    }\n",
       "</style>\n",
       "<table border=\"1\" class=\"dataframe\">\n",
       "  <thead>\n",
       "    <tr style=\"text-align: right;\">\n",
       "      <th></th>\n",
       "      <th>Cliente</th>\n",
       "      <th>ID</th>\n",
       "      <th>Tipo</th>\n",
       "      <th>Data da Venda</th>\n",
       "      <th>Categoria</th>\n",
       "      <th>Vendedor</th>\n",
       "      <th>Regional</th>\n",
       "      <th>Duração do Contrato (Meses)</th>\n",
       "      <th>Equipe</th>\n",
       "      <th>Valor</th>\n",
       "      <th>Valores</th>\n",
       "    </tr>\n",
       "  </thead>\n",
       "  <tbody>\n",
       "    <tr>\n",
       "      <th>614</th>\n",
       "      <td>Cliente 5</td>\n",
       "      <td>2021-3497</td>\n",
       "      <td>Serviços</td>\n",
       "      <td>11/02/2021</td>\n",
       "      <td>Upselling</td>\n",
       "      <td>Vendedor 3</td>\n",
       "      <td>Brasil</td>\n",
       "      <td>12</td>\n",
       "      <td>Time 1</td>\n",
       "      <td>R$ 359.818,20</td>\n",
       "      <td>359818.20</td>\n",
       "    </tr>\n",
       "    <tr>\n",
       "      <th>786</th>\n",
       "      <td>Cliente 8</td>\n",
       "      <td>2020-3157</td>\n",
       "      <td>Serviços</td>\n",
       "      <td>12/01/2021</td>\n",
       "      <td>Renovação</td>\n",
       "      <td>Vendedor 3</td>\n",
       "      <td>Brasil</td>\n",
       "      <td>12</td>\n",
       "      <td>Time 1</td>\n",
       "      <td>R$ 342.720,00</td>\n",
       "      <td>342720.00</td>\n",
       "    </tr>\n",
       "    <tr>\n",
       "      <th>440</th>\n",
       "      <td>Cliente 4</td>\n",
       "      <td>2020-2922</td>\n",
       "      <td>Licenciamento</td>\n",
       "      <td>15/10/2020</td>\n",
       "      <td>Upselling</td>\n",
       "      <td>Vendedor 3</td>\n",
       "      <td>Brasil</td>\n",
       "      <td>25</td>\n",
       "      <td>Time 1</td>\n",
       "      <td>R$ 333.238,92</td>\n",
       "      <td>333238.92</td>\n",
       "    </tr>\n",
       "    <tr>\n",
       "      <th>690</th>\n",
       "      <td>Cliente 7</td>\n",
       "      <td>2018-0033</td>\n",
       "      <td>Licenciamento</td>\n",
       "      <td>31/01/2018</td>\n",
       "      <td>Novo Logo</td>\n",
       "      <td>Vendedor 1</td>\n",
       "      <td>Brasil</td>\n",
       "      <td>37</td>\n",
       "      <td>Time 1</td>\n",
       "      <td>R$ 338.365,31</td>\n",
       "      <td>338365.31</td>\n",
       "    </tr>\n",
       "    <tr>\n",
       "      <th>797</th>\n",
       "      <td>Cliente 81</td>\n",
       "      <td>2020-2638</td>\n",
       "      <td>Produtos</td>\n",
       "      <td>27/08/2020</td>\n",
       "      <td>Cross selling</td>\n",
       "      <td>Vendedor 16</td>\n",
       "      <td>Brasil</td>\n",
       "      <td>12</td>\n",
       "      <td>Time 3</td>\n",
       "      <td>R$ 158.231,04</td>\n",
       "      <td>158231.04</td>\n",
       "    </tr>\n",
       "  </tbody>\n",
       "</table>\n",
       "</div>"
      ],
      "text/plain": [
       "        Cliente         ID           Tipo Data da Venda      Categoria  \\\n",
       "614   Cliente 5  2021-3497       Serviços    11/02/2021      Upselling   \n",
       "786   Cliente 8  2020-3157       Serviços    12/01/2021      Renovação   \n",
       "440   Cliente 4  2020-2922  Licenciamento    15/10/2020      Upselling   \n",
       "690   Cliente 7  2018-0033  Licenciamento    31/01/2018      Novo Logo   \n",
       "797  Cliente 81  2020-2638       Produtos    27/08/2020  Cross selling   \n",
       "\n",
       "        Vendedor Regional  Duração do Contrato (Meses)  Equipe  \\\n",
       "614   Vendedor 3   Brasil                           12  Time 1   \n",
       "786   Vendedor 3   Brasil                           12  Time 1   \n",
       "440   Vendedor 3   Brasil                           25  Time 1   \n",
       "690   Vendedor 1   Brasil                           37  Time 1   \n",
       "797  Vendedor 16   Brasil                           12  Time 3   \n",
       "\n",
       "               Valor    Valores  \n",
       "614   R$ 359.818,20   359818.20  \n",
       "786   R$ 342.720,00   342720.00  \n",
       "440   R$ 333.238,92   333238.92  \n",
       "690   R$ 338.365,31   338365.31  \n",
       "797   R$ 158.231,04   158231.04  "
      ]
     },
     "execution_count": 62,
     "metadata": {},
     "output_type": "execute_result"
    }
   ],
   "source": [
    "dados = pd.concat((dados, valor.rename('Valores')), axis=1)\n",
    "dados.sample(5)"
   ]
  },
  {
   "cell_type": "markdown",
   "metadata": {},
   "source": [
    "### Construa uma tabela auxiliar que sumarize o valor vendido por cada vendedor, ordenando do maior para o menor;"
   ]
  },
  {
   "cell_type": "code",
   "execution_count": 63,
   "metadata": {},
   "outputs": [
    {
     "data": {
      "text/html": [
       "<div>\n",
       "<style scoped>\n",
       "    .dataframe tbody tr th:only-of-type {\n",
       "        vertical-align: middle;\n",
       "    }\n",
       "\n",
       "    .dataframe tbody tr th {\n",
       "        vertical-align: top;\n",
       "    }\n",
       "\n",
       "    .dataframe thead th {\n",
       "        text-align: right;\n",
       "    }\n",
       "</style>\n",
       "<table border=\"1\" class=\"dataframe\">\n",
       "  <thead>\n",
       "    <tr style=\"text-align: right;\">\n",
       "      <th></th>\n",
       "      <th>Vendedor</th>\n",
       "      <th>Valor Vendido</th>\n",
       "    </tr>\n",
       "  </thead>\n",
       "  <tbody>\n",
       "    <tr>\n",
       "      <th>22</th>\n",
       "      <td>Vendedor 3</td>\n",
       "      <td>1.662205e+08</td>\n",
       "    </tr>\n",
       "    <tr>\n",
       "      <th>27</th>\n",
       "      <td>Vendedor 7</td>\n",
       "      <td>5.779918e+07</td>\n",
       "    </tr>\n",
       "    <tr>\n",
       "      <th>1</th>\n",
       "      <td>Vendedor 10</td>\n",
       "      <td>5.221206e+07</td>\n",
       "    </tr>\n",
       "    <tr>\n",
       "      <th>28</th>\n",
       "      <td>Vendedor 8</td>\n",
       "      <td>4.727451e+07</td>\n",
       "    </tr>\n",
       "    <tr>\n",
       "      <th>0</th>\n",
       "      <td>Vendedor 1</td>\n",
       "      <td>3.092948e+07</td>\n",
       "    </tr>\n",
       "    <tr>\n",
       "      <th>29</th>\n",
       "      <td>Vendedor 9</td>\n",
       "      <td>2.637456e+07</td>\n",
       "    </tr>\n",
       "    <tr>\n",
       "      <th>4</th>\n",
       "      <td>Vendedor 13</td>\n",
       "      <td>2.483730e+07</td>\n",
       "    </tr>\n",
       "    <tr>\n",
       "      <th>9</th>\n",
       "      <td>Vendedor 18</td>\n",
       "      <td>2.266230e+07</td>\n",
       "    </tr>\n",
       "    <tr>\n",
       "      <th>21</th>\n",
       "      <td>Vendedor 29</td>\n",
       "      <td>1.907687e+07</td>\n",
       "    </tr>\n",
       "    <tr>\n",
       "      <th>24</th>\n",
       "      <td>Vendedor 4</td>\n",
       "      <td>1.734682e+07</td>\n",
       "    </tr>\n",
       "  </tbody>\n",
       "</table>\n",
       "</div>"
      ],
      "text/plain": [
       "       Vendedor  Valor Vendido\n",
       "22   Vendedor 3   1.662205e+08\n",
       "27   Vendedor 7   5.779918e+07\n",
       "1   Vendedor 10   5.221206e+07\n",
       "28   Vendedor 8   4.727451e+07\n",
       "0    Vendedor 1   3.092948e+07\n",
       "29   Vendedor 9   2.637456e+07\n",
       "4   Vendedor 13   2.483730e+07\n",
       "9   Vendedor 18   2.266230e+07\n",
       "21  Vendedor 29   1.907687e+07\n",
       "24   Vendedor 4   1.734682e+07"
      ]
     },
     "execution_count": 63,
     "metadata": {},
     "output_type": "execute_result"
    }
   ],
   "source": [
    "vendedores = dados[['Vendedor','Valores']].groupby(by=['Vendedor']).sum().reset_index()\n",
    "vendedores = vendedores.rename(columns={'Valores' : 'Valor Vendido'})\n",
    "vendedores = vendedores.sort_values(by='Valor Vendido', ascending=False)\n",
    "vendedores.head(10)"
   ]
  },
  {
   "cell_type": "markdown",
   "metadata": {},
   "source": [
    "### Imprima e identifica qual foi o cliente responsável pela venda com maior valor e com menor valor;"
   ]
  },
  {
   "cell_type": "code",
   "execution_count": 64,
   "metadata": {},
   "outputs": [
    {
     "name": "stdout",
     "output_type": "stream",
     "text": [
      "O cliente com o maior valor de venda eh: Cliente 89\n",
      "Com o valor de: 24970500.0\n"
     ]
    }
   ],
   "source": [
    "clienteMax = dados.loc[dados['Valores'].idxmax()]\n",
    "print('O cliente com o maior valor de venda eh: '+clienteMax['Cliente']+'\\nCom o valor de: '+ str(clienteMax['Valores']))"
   ]
  },
  {
   "cell_type": "code",
   "execution_count": 65,
   "metadata": {},
   "outputs": [
    {
     "name": "stdout",
     "output_type": "stream",
     "text": [
      "O cliente com o menor valor de venda eh: Cliente 120\n",
      "Com o valor de: 1250.0\n"
     ]
    }
   ],
   "source": [
    "clienteMin = dados.loc[dados['Valores'].idxmin()]\n",
    "print('O cliente com o menor valor de venda eh: '+clienteMin['Cliente']+'\\nCom o valor de: '+ str(clienteMin['Valores']))"
   ]
  },
  {
   "cell_type": "markdown",
   "metadata": {},
   "source": [
    "### Imprima valor médio por Tipo de venda (Serviços, Licenciamento, Produtos)"
   ]
  },
  {
   "cell_type": "code",
   "execution_count": 66,
   "metadata": {},
   "outputs": [
    {
     "name": "stdout",
     "output_type": "stream",
     "text": [
      "            Tipo  Media de valor vendido\n",
      "0  Licenciamento           983448.768963\n",
      "1       Produtos           893409.190065\n",
      "2       Serviços           314567.937298\n"
     ]
    }
   ],
   "source": [
    "tipoVenda = dados[['Tipo','Valores']].groupby(by=['Tipo']).mean().reset_index()\n",
    "tipoVenda = tipoVenda.rename(columns={'Valores' : 'Media de valor vendido'})\n",
    "print(tipoVenda)"
   ]
  },
  {
   "cell_type": "markdown",
   "metadata": {},
   "source": [
    "#### Imprima o número de vendas realizada por cliente"
   ]
  },
  {
   "cell_type": "code",
   "execution_count": 67,
   "metadata": {},
   "outputs": [
    {
     "name": "stdout",
     "output_type": "stream",
     "text": [
      "Cliente\n",
      "Cliente 5      128\n",
      "Cliente 8       61\n",
      "Cliente 4       60\n",
      "Cliente 10      43\n",
      "Cliente 3       31\n",
      "              ... \n",
      "Cliente 146      1\n",
      "Cliente 144      1\n",
      "Cliente 143      1\n",
      "Cliente 142      1\n",
      "Cliente 99       1\n",
      "Name: count, Length: 157, dtype: int64\n"
     ]
    }
   ],
   "source": [
    "print(dados['Cliente'].value_counts())"
   ]
  }
 ],
 "metadata": {
  "kernelspec": {
   "display_name": "Python 3",
   "language": "python",
   "name": "python3"
  },
  "language_info": {
   "codemirror_mode": {
    "name": "ipython",
    "version": 3
   },
   "file_extension": ".py",
   "mimetype": "text/x-python",
   "name": "python",
   "nbconvert_exporter": "python",
   "pygments_lexer": "ipython3",
   "version": "3.11.6"
  }
 },
 "nbformat": 4,
 "nbformat_minor": 2
}
